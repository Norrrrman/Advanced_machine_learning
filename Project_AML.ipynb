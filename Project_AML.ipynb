{
 "cells": [
  {
   "cell_type": "code",
   "execution_count": 1,
   "metadata": {},
   "outputs": [],
   "source": [
    "import warnings\n",
    "import numpy as np\n",
    "import pandas as pd\n",
    "import seaborn as sns\n",
    "import matplotlib.pyplot as plt\n",
    "from scipy import stats\n",
    "from sklearn import linear_model\n",
    "from sklearn.model_selection import cross_val_score\n",
    "from sklearn.model_selection import train_test_split\n",
    "from sklearn.model_selection import cross_val_score"
   ]
  },
  {
   "cell_type": "code",
   "execution_count": 2,
   "metadata": {},
   "outputs": [
    {
     "data": {
      "text/html": [
       "<div>\n",
       "<style scoped>\n",
       "    .dataframe tbody tr th:only-of-type {\n",
       "        vertical-align: middle;\n",
       "    }\n",
       "\n",
       "    .dataframe tbody tr th {\n",
       "        vertical-align: top;\n",
       "    }\n",
       "\n",
       "    .dataframe thead th {\n",
       "        text-align: right;\n",
       "    }\n",
       "</style>\n",
       "<table border=\"1\" class=\"dataframe\">\n",
       "  <thead>\n",
       "    <tr style=\"text-align: right;\">\n",
       "      <th></th>\n",
       "      <th>Recency (months)</th>\n",
       "      <th>Frequency (times)</th>\n",
       "      <th>Monetary (c.c. blood)</th>\n",
       "      <th>Time (months)</th>\n",
       "      <th>whether he/she donated blood in March 2007</th>\n",
       "    </tr>\n",
       "  </thead>\n",
       "  <tbody>\n",
       "    <tr>\n",
       "      <th>0</th>\n",
       "      <td>2</td>\n",
       "      <td>50</td>\n",
       "      <td>12500</td>\n",
       "      <td>98</td>\n",
       "      <td>1</td>\n",
       "    </tr>\n",
       "    <tr>\n",
       "      <th>1</th>\n",
       "      <td>0</td>\n",
       "      <td>13</td>\n",
       "      <td>3250</td>\n",
       "      <td>28</td>\n",
       "      <td>1</td>\n",
       "    </tr>\n",
       "    <tr>\n",
       "      <th>2</th>\n",
       "      <td>1</td>\n",
       "      <td>16</td>\n",
       "      <td>4000</td>\n",
       "      <td>35</td>\n",
       "      <td>1</td>\n",
       "    </tr>\n",
       "    <tr>\n",
       "      <th>3</th>\n",
       "      <td>2</td>\n",
       "      <td>20</td>\n",
       "      <td>5000</td>\n",
       "      <td>45</td>\n",
       "      <td>1</td>\n",
       "    </tr>\n",
       "    <tr>\n",
       "      <th>4</th>\n",
       "      <td>1</td>\n",
       "      <td>24</td>\n",
       "      <td>6000</td>\n",
       "      <td>77</td>\n",
       "      <td>0</td>\n",
       "    </tr>\n",
       "  </tbody>\n",
       "</table>\n",
       "</div>"
      ],
      "text/plain": [
       "   Recency (months)  Frequency (times)  Monetary (c.c. blood)  Time (months)  \\\n",
       "0                 2                 50                  12500             98   \n",
       "1                 0                 13                   3250             28   \n",
       "2                 1                 16                   4000             35   \n",
       "3                 2                 20                   5000             45   \n",
       "4                 1                 24                   6000             77   \n",
       "\n",
       "   whether he/she donated blood in March 2007  \n",
       "0                                           1  \n",
       "1                                           1  \n",
       "2                                           1  \n",
       "3                                           1  \n",
       "4                                           0  "
      ]
     },
     "execution_count": 2,
     "metadata": {},
     "output_type": "execute_result"
    }
   ],
   "source": [
    "data = pd.read_csv(r'C:\\Users\\60250\\Desktop\\advanced machine learning\\project\\transfusion.data')\n",
    "data.head()"
   ]
  },
  {
   "cell_type": "code",
   "execution_count": 3,
   "metadata": {},
   "outputs": [
    {
     "data": {
      "text/html": [
       "<div>\n",
       "<style scoped>\n",
       "    .dataframe tbody tr th:only-of-type {\n",
       "        vertical-align: middle;\n",
       "    }\n",
       "\n",
       "    .dataframe tbody tr th {\n",
       "        vertical-align: top;\n",
       "    }\n",
       "\n",
       "    .dataframe thead th {\n",
       "        text-align: right;\n",
       "    }\n",
       "</style>\n",
       "<table border=\"1\" class=\"dataframe\">\n",
       "  <thead>\n",
       "    <tr style=\"text-align: right;\">\n",
       "      <th></th>\n",
       "      <th>R</th>\n",
       "      <th>F</th>\n",
       "      <th>M</th>\n",
       "      <th>T</th>\n",
       "      <th>whether</th>\n",
       "    </tr>\n",
       "  </thead>\n",
       "  <tbody>\n",
       "    <tr>\n",
       "      <th>0</th>\n",
       "      <td>2</td>\n",
       "      <td>50</td>\n",
       "      <td>12500</td>\n",
       "      <td>98</td>\n",
       "      <td>1</td>\n",
       "    </tr>\n",
       "    <tr>\n",
       "      <th>1</th>\n",
       "      <td>0</td>\n",
       "      <td>13</td>\n",
       "      <td>3250</td>\n",
       "      <td>28</td>\n",
       "      <td>1</td>\n",
       "    </tr>\n",
       "    <tr>\n",
       "      <th>2</th>\n",
       "      <td>1</td>\n",
       "      <td>16</td>\n",
       "      <td>4000</td>\n",
       "      <td>35</td>\n",
       "      <td>1</td>\n",
       "    </tr>\n",
       "    <tr>\n",
       "      <th>3</th>\n",
       "      <td>2</td>\n",
       "      <td>20</td>\n",
       "      <td>5000</td>\n",
       "      <td>45</td>\n",
       "      <td>1</td>\n",
       "    </tr>\n",
       "    <tr>\n",
       "      <th>4</th>\n",
       "      <td>1</td>\n",
       "      <td>24</td>\n",
       "      <td>6000</td>\n",
       "      <td>77</td>\n",
       "      <td>0</td>\n",
       "    </tr>\n",
       "    <tr>\n",
       "      <th>...</th>\n",
       "      <td>...</td>\n",
       "      <td>...</td>\n",
       "      <td>...</td>\n",
       "      <td>...</td>\n",
       "      <td>...</td>\n",
       "    </tr>\n",
       "    <tr>\n",
       "      <th>743</th>\n",
       "      <td>23</td>\n",
       "      <td>2</td>\n",
       "      <td>500</td>\n",
       "      <td>38</td>\n",
       "      <td>0</td>\n",
       "    </tr>\n",
       "    <tr>\n",
       "      <th>744</th>\n",
       "      <td>21</td>\n",
       "      <td>2</td>\n",
       "      <td>500</td>\n",
       "      <td>52</td>\n",
       "      <td>0</td>\n",
       "    </tr>\n",
       "    <tr>\n",
       "      <th>745</th>\n",
       "      <td>23</td>\n",
       "      <td>3</td>\n",
       "      <td>750</td>\n",
       "      <td>62</td>\n",
       "      <td>0</td>\n",
       "    </tr>\n",
       "    <tr>\n",
       "      <th>746</th>\n",
       "      <td>39</td>\n",
       "      <td>1</td>\n",
       "      <td>250</td>\n",
       "      <td>39</td>\n",
       "      <td>0</td>\n",
       "    </tr>\n",
       "    <tr>\n",
       "      <th>747</th>\n",
       "      <td>72</td>\n",
       "      <td>1</td>\n",
       "      <td>250</td>\n",
       "      <td>72</td>\n",
       "      <td>0</td>\n",
       "    </tr>\n",
       "  </tbody>\n",
       "</table>\n",
       "<p>748 rows × 5 columns</p>\n",
       "</div>"
      ],
      "text/plain": [
       "      R   F      M   T  whether\n",
       "0     2  50  12500  98        1\n",
       "1     0  13   3250  28        1\n",
       "2     1  16   4000  35        1\n",
       "3     2  20   5000  45        1\n",
       "4     1  24   6000  77        0\n",
       "..   ..  ..    ...  ..      ...\n",
       "743  23   2    500  38        0\n",
       "744  21   2    500  52        0\n",
       "745  23   3    750  62        0\n",
       "746  39   1    250  39        0\n",
       "747  72   1    250  72        0\n",
       "\n",
       "[748 rows x 5 columns]"
      ]
     },
     "execution_count": 3,
     "metadata": {},
     "output_type": "execute_result"
    }
   ],
   "source": [
    "data.rename(columns={'Recency (months)':'R','Frequency (times)':'F','Monetary (c.c. blood)':'M','Time (months)':'T','whether he/she donated blood in March 2007':'whether'}, inplace=True)\n",
    "data"
   ]
  },
  {
   "cell_type": "code",
   "execution_count": 4,
   "metadata": {},
   "outputs": [
    {
     "name": "stdout",
     "output_type": "stream",
     "text": [
      "The type of data\n",
      " R          int64\n",
      "F          int64\n",
      "M          int64\n",
      "T          int64\n",
      "whether    int64\n",
      "dtype: object\n",
      "Is there a missing value in the column:\n",
      " R          False\n",
      "F          False\n",
      "M          False\n",
      "T          False\n",
      "whether    False\n",
      "dtype: bool\n",
      "Find rows with missing values:\n",
      " 0      False\n",
      "1      False\n",
      "2      False\n",
      "3      False\n",
      "4      False\n",
      "       ...  \n",
      "743    False\n",
      "744    False\n",
      "745    False\n",
      "746    False\n",
      "747    False\n",
      "Length: 748, dtype: bool\n",
      "Count how many rows have missing values : 0\n"
     ]
    }
   ],
   "source": [
    "#Analysis of the dataset\n",
    "#1.The type of data\n",
    "data_types=data.dtypes\n",
    "print(\"The type of data\\n\",data_types)\n",
    "\n",
    "#2.The missing values\n",
    "#Is there a missing value in the column\n",
    "data_missing_column=data.isnull().any()\n",
    "print(\"Is there a missing value in the column:\\n\",data_missing_column)\n",
    "\n",
    "# Find rows with missing values\n",
    "nan_lines = data.isnull().any(1)\n",
    "\n",
    "# Count how many rows have missing values\n",
    "nan_lines_sum=nan_lines.sum()\n",
    "print(\"Find rows with missing values:\\n\",nan_lines)\n",
    "print(\"Count how many rows have missing values :\",nan_lines_sum)\n",
    "#Delete rows with null values in the data table\n",
    "\n"
   ]
  },
  {
   "cell_type": "code",
   "execution_count": 5,
   "metadata": {},
   "outputs": [
    {
     "name": "stdout",
     "output_type": "stream",
     "text": [
      "F,M column covariance: 8524.376919442475\n",
      "Correlation coefficients of columns F and M: 1.0\n",
      "F,T column covariance: nan\n",
      "Correlation coefficients of columns F and T: nan\n",
      "M,T column covariance: nan\n",
      "Correlation coefficients of columns M and T: nan\n"
     ]
    }
   ],
   "source": [
    "#Calculate covariance, correlation coefficient using pandas\n",
    "# Use DataFrame as the data structure. To facilitate calculation, we will transpose the matrix\n",
    "dffm = pd.DataFrame(data, columns=['F', 'M'])\n",
    "cov_F_M=dffm.F.cov(dffm.M)\n",
    "print(\"F,M column covariance:\",cov_F_M)\n",
    "\n",
    "corr_F_M=dffm.F.corr(dffm.M)\n",
    "print(\"Correlation coefficients of columns F and M:\",corr_F_M)\n",
    "\n",
    "dfft = pd.DataFrame(data,columns=['F', 'T'])\n",
    "cov_F_T=dfft.F.cov(dfft.T)\n",
    "print(\"F,T column covariance:\",cov_F_T)\n",
    "\n",
    "corr_F_T=dfft.F.corr(dfft.T)\n",
    "print(\"Correlation coefficients of columns F and T:\",corr_F_T)\n",
    "\n",
    "dfmt = pd.DataFrame(data,columns=['M', 'T'])\n",
    "cov_M_T=dfmt.M.cov(dfft.T)\n",
    "print(\"M,T column covariance:\",cov_M_T)\n",
    "\n",
    "corr_M_T=dfmt.M.corr(dfft.T)\n",
    "print(\"Correlation coefficients of columns M and T:\",corr_M_T)\n"
   ]
  },
  {
   "cell_type": "code",
   "execution_count": 6,
   "metadata": {},
   "outputs": [
    {
     "data": {
      "image/png": "[encoded data removed]",
      "text/plain": [
       "<Figure size 432x288 with 1 Axes>"
      ]
     },
     "metadata": {
      "needs_background": "light"
     },
     "output_type": "display_data"
    }
   ],
   "source": [
    "#Prediction \n",
    "#Due to the above correlation,we can predict\n",
    "x = data[['F']]\n",
    "y = data['M']\n",
    "X_train,X_test, y_train, y_test = train_test_split(x, y, test_size=0.3, random_state=0)\n",
    "\n",
    "model = linear_model.LinearRegression()\n",
    "model.fit(X_train,y_train)\n",
    "pred_y=model.predict(X_test)\n",
    "\n",
    "\n",
    "plt.subplot(1,1,1)\n",
    "plt.plot(X_test, y_test, color='orange', linewidth=4, label='Actual data')\n",
    "plt.plot(X_test, pred_y, color='teal', linewidth=2, label='Predict data')\n",
    "plt.title('Linear regression prediction Monetary')\n",
    "plt.legend(loc=2, bbox_to_anchor=(1.05,1.0),borderaxespad = 0)\n",
    "plt.xlabel('Frequency (times)')\n",
    "plt.ylabel('Monetary (c.c. blood)')\n",
    "plt.grid(b=True, ls=':')\n",
    "plt.show()"
   ]
  },
  {
   "cell_type": "code",
   "execution_count": 7,
   "metadata": {},
   "outputs": [
    {
     "name": "stdout",
     "output_type": "stream",
     "text": [
      "     whether\n",
      "138        0\n",
      "511        0\n",
      "427        0\n",
      "161        0\n",
      "307        0\n",
      "..       ...\n",
      "593        1\n",
      "450        0\n",
      "155        0\n",
      "75         1\n",
      "280        0\n",
      "\n",
      "[225 rows x 1 columns]\n",
      "     whether  prediction\n",
      "0          0           1\n",
      "1          0           0\n",
      "2          0           0\n",
      "3          0           0\n",
      "4          0           0\n",
      "..       ...         ...\n",
      "220        1           0\n",
      "221        0           0\n",
      "222        0           0\n",
      "223        1           0\n",
      "224        0           1\n",
      "\n",
      "[225 rows x 2 columns]\n"
     ]
    },
    {
     "name": "stderr",
     "output_type": "stream",
     "text": [
      "<ipython-input-7-f837767e0efd>:24: SettingWithCopyWarning: \n",
      "A value is trying to be set on a copy of a slice from a DataFrame.\n",
      "Try using .loc[row_indexer,col_indexer] = value instead\n",
      "\n",
      "See the caveats in the documentation: https://pandas.pydata.org/pandas-docs/stable/user_guide/indexing.html#returning-a-view-versus-a-copy\n",
      "  test_target['prediction']=test_est\n"
     ]
    }
   ],
   "source": [
    "#K-Nearest Neighbours (K-NN) predict whether he/she donated blood in March 2007\n",
    "from sklearn import preprocessing\n",
    "import sklearn.model_selection as cross_validation \n",
    "from sklearn.neighbors import KNeighborsClassifier\n",
    "\n",
    "X =data.iloc[:,:4]\n",
    "Y =data[['whether']]\n",
    "X.head()\n",
    "\n",
    "min_max_scaler = preprocessing.MinMaxScaler()\n",
    "X_scaled =min_max_scaler.fit_transform(X)\n",
    "X_scaled[1:5]\n",
    "\n",
    "#Dividing training and test sets\n",
    "train_data,test_data, train_target, test_target = cross_validation.train_test_split(\n",
    "X_scaled, Y, test_size=0.3, train_size=0.7,random_state=123)\n",
    "\n",
    "# Modeling\n",
    "model =KNeighborsClassifier(n_neighbors=3)  # Default Euclidean distance\n",
    "model.fit(train_data,train_target.values.flatten())\n",
    "test_est =model.predict(test_data)\n",
    "print(test_target)\n",
    "\n",
    "test_target['prediction']=test_est\n",
    "test_target=test_target.reset_index(drop=True)\n",
    "print(test_target)\n"
   ]
  },
  {
   "cell_type": "code",
   "execution_count": 8,
   "metadata": {},
   "outputs": [
    {
     "data": {
      "image/png": "[encoded data removed]",
      "text/plain": [
       "<Figure size 432x288 with 1 Axes>"
      ]
     },
     "metadata": {
      "needs_background": "light"
     },
     "output_type": "display_data"
    }
   ],
   "source": [
    "plt.subplot(1,1,1)\n",
    "plt.scatter(test_target.index,test_target.whether, color='orange', label='Actual data')\n",
    "plt.scatter(test_target.index,test_target.prediction, color='teal', label='Predict data')\n",
    "plt.title('KNN donate blood prediction')\n",
    "plt.legend(loc=2, bbox_to_anchor=(1.05,1.0),borderaxespad = 0)\n",
    "\n",
    "plt.xlabel('')\n",
    "plt.ylabel('Donate blood prediction')\n",
    "\n",
    "plt.grid(b=True, ls=':')\n",
    "plt.show()"
   ]
  },
  {
   "cell_type": "code",
   "execution_count": 9,
   "metadata": {},
   "outputs": [
    {
     "name": "stdout",
     "output_type": "stream",
     "text": [
      "[[143  22]\n",
      " [ 42  18]]\n",
      "              precision    recall  f1-score   support\n",
      "\n",
      "           0       0.77      0.87      0.82       165\n",
      "           1       0.45      0.30      0.36        60\n",
      "\n",
      "    accuracy                           0.72       225\n",
      "   macro avg       0.61      0.58      0.59       225\n",
      "weighted avg       0.69      0.72      0.70       225\n",
      "\n"
     ]
    }
   ],
   "source": [
    "# Model evaluation\n",
    "\n",
    "import sklearn.metrics as metrics\n",
    "from sklearn.metrics import confusion_matrix\n",
    "\n",
    "print(metrics.confusion_matrix(test_target['whether'],test_est, labels=[0, 1]))  # Confusion matrix\n",
    "\n",
    "print(metrics.classification_report(test_target['whether'],test_est))"
   ]
  },
  {
   "cell_type": "markdown",
   "metadata": {},
   "source": [
    "88 means predict data is 1, actual data is 1."
   ]
  },
  {
   "cell_type": "markdown",
   "metadata": {},
   "source": [
    "24 means predict data is 1, actual data is 0."
   ]
  },
  {
   "cell_type": "markdown",
   "metadata": {},
   "source": [
    "22 means predict data is 0, actual data is 1."
   ]
  },
  {
   "cell_type": "markdown",
   "metadata": {},
   "source": [
    "16 means predict data is 0, actual data is 0."
   ]
  }
 ],
 "metadata": {
  "kernelspec": {
   "display_name": "Python 3",
   "language": "python",
   "name": "python3"
  },
  "language_info": {
   "codemirror_mode": {
    "name": "ipython",
    "version": 3
   },
   "file_extension": ".py",
   "mimetype": "text/x-python",
   "name": "python",
   "nbconvert_exporter": "python",
   "pygments_lexer": "ipython3",
   "version": "3.8.5"
  }
 },
 "nbformat": 4,
 "nbformat_minor": 4
}
